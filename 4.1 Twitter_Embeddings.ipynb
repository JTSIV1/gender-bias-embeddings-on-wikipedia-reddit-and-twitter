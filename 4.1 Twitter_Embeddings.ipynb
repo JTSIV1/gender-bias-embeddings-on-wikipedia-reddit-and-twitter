{
 "cells": [
  {
   "cell_type": "code",
   "execution_count": 7,
   "metadata": {},
   "outputs": [],
   "source": [
    "import pandas as pd\n",
    "from gensim.models import Word2Vec\n",
    "import numpy as np\n",
    "from tqdm import tqdm\n",
    "\n",
    "vocab = np.loadtxt('model_vocab.txt', dtype=str).tolist()\n",
    "\n",
    "file_path = \"Twitter_by_Country.gz\"\n",
    "\n",
    "high = 1140248\n",
    "batch_size = 10000\n",
    "skip_gram = 0 # 0 for CBOW, 1 for skip-gram\n",
    "\n",
    "print('init model')\n",
    "model = Word2Vec([vocab], vector_size=100, window=5, sg=skip_gram, epochs=1)\n",
    "\n",
    "for low in tqdm(range(0, high, batch_size)):\n",
    "    to_exclude = [i for i in range(high) if not (i >= low and i < min(low + batch_size, high))]\n",
    "    df = pd.read_csv(file_path, sep = \",\", header = None, skiprows=to_exclude)\n",
    "    df.drop(0, axis = 1, inplace = True)\n",
    "    df.drop(0, axis = 0, inplace = True)\n",
    "    df.columns = [\"Country\", \"Text\"]\n",
    "    df.drop(\"Country\", axis = 1, inplace = True)\n",
    "    sentences = [str(text).split() for text in df['Text']]\n",
    "    model.train(sentences, total_examples=len(sentences), epochs=5)\n",
    "\n",
    "if skip_gram == 0:\n",
    "    model.save(\"twitter_cbow.model\")\n",
    "else:\n",
    "    model.save(\"twitter_sg.model\")"
   ]
  },
  {
   "cell_type": "code",
   "execution_count": 12,
   "metadata": {},
   "outputs": [
    {
     "name": "stdout",
     "output_type": "stream",
     "text": [
      "Similar words to 'john':\n",
      "brian: 0.6791706085205078\n",
      "andrew: 0.6783788204193115\n",
      "jonathan: 0.6760517954826355\n",
      "william: 0.657180905342102\n",
      "gerard: 0.6538611650466919\n",
      "greg: 0.6529569029808044\n",
      "eric: 0.6524447202682495\n",
      "ron: 0.6524212956428528\n",
      "glenn: 0.6497178673744202\n",
      "johns: 0.6481399536132812\n"
     ]
    }
   ],
   "source": [
    "# Test the trained model\n",
    "word = \"john\"\n",
    "similar_words = model.wv.most_similar(word)\n",
    "\n",
    "print(f\"Similar words to '{word}':\")\n",
    "for similar_word, similarity in similar_words:\n",
    "    print(f\"{similar_word}: {similarity}\")"
   ]
  },
  {
   "cell_type": "code",
   "execution_count": 18,
   "metadata": {},
   "outputs": [
    {
     "name": "stdout",
     "output_type": "stream",
     "text": [
      "this long thread on medieval dyes and pigments is one of the things i love about twitter an expert sharing her knoa couple of years ago we did a quiz so if you have some spare time why not see how much you know about theharry styles fine line cd giveaway rt and reply with your top songs from fine line a picture of harry mbf illa glimmer of hope for the last wild population the cape arid np bushfire while still uncontrolled aa tiny step forward in the battle to save the last wild population cape arid fire doesn t seem to haafter years maybe finally naka read ko usab sa church and it feels so good thank you lord happy birthdaymary godwin writes in her journal in the evening hogg comes i like him better each time it is a pity thaenjoying my extra cold castle lite dankolow key true rocky stopped making decent music after yams diedcrabb robinson a call on blake i read him wordsworth s incomparable ode which he heartily enjoyedsevern writes the continued stretch of keats imagination has killed him amp were he to recover he could notwordsworth and dorothy arrive at dove cottage which they have rented for a year one chimney smokes and twhy the hell do they always give this guy a ball when he s only made like threes total in his careercat i dont care you are my mf friend okay i want to experience this concert as much as you if ii will cover what you cant and if your parents are worried we can make a strict plan with them we la couple of years ago we did a quiz so if you have some spare time why not see how much you know abouti do lament he ever left england the journey of miles was too much i have thought he would die before he repleasepleaseplease camp out with me for harry we ll get a tent and shizand here s giuseppe albano curator of the house on keats last days in rometomorrow kids just remember get what you get and don t get upsetjust received an update from with favourable winds firefighters will attempt to construct a containmentthe wa fire threatening one of australia s rarest birds with extinction is for some reason not mentionedi do lament he ever left england the journey of miles was too much i have thought he would die before hsevern writes the continued stretch of keats imagination has killed him amp were he to recover he couldfire patricia asap team is going and has been going backwards since he took over his demeanor on thi cant vibe with your sis i wanna be crying on a bedroom floor listening to falling and fine line stfu\n"
     ]
    }
   ],
   "source": [
    "to_exclude = [i for i in range(high) if not i < 10000]\n",
    "df = pd.read_csv(file_path, sep = \",\", header = None, skiprows=to_exclude)\n",
    "df.drop(0, axis = 1, inplace = True)\n",
    "df.drop(0, axis = 0, inplace = True)\n",
    "df.columns = [\"Country\", \"Text\"]\n",
    "average_length = df['Text'].str.len().mean()\n",
    "print(f\"Average length of comments: {average_length:.2f}\")\n",
    "print(df.loc[1, 'Text'])\n",
    "\n"
   ]
  }
 ],
 "metadata": {
  "kernelspec": {
   "display_name": "Python 3",
   "language": "python",
   "name": "python3"
  },
  "language_info": {
   "codemirror_mode": {
    "name": "ipython",
    "version": 3
   },
   "file_extension": ".py",
   "mimetype": "text/x-python",
   "name": "python",
   "nbconvert_exporter": "python",
   "pygments_lexer": "ipython3",
   "version": "3.11.5"
  }
 },
 "nbformat": 4,
 "nbformat_minor": 2
}
