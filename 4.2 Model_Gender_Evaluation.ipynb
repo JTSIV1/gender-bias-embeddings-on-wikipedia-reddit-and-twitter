{
 "cells": [
  {
   "cell_type": "code",
   "execution_count": 1,
   "metadata": {},
   "outputs": [
    {
     "name": "stdout",
     "output_type": "stream",
     "text": [
      "Processing reddit_cbow.model...\n"
     ]
    },
    {
     "name": "stderr",
     "output_type": "stream",
     "text": [
      "\tmasculine terms: 100%|██████████| 32/32 [02:33<00:00,  4.80s/it]\n",
      "\tfeminine terms: 100%|██████████| 32/32 [01:50<00:00,  3.44s/it]\n"
     ]
    },
    {
     "name": "stdout",
     "output_type": "stream",
     "text": [
      "\n",
      "\n",
      "Processing reddit_sg.model...\n"
     ]
    },
    {
     "name": "stderr",
     "output_type": "stream",
     "text": [
      "\tmasculine terms: 100%|██████████| 32/32 [02:30<00:00,  4.70s/it]\n",
      "\tfeminine terms: 100%|██████████| 32/32 [01:54<00:00,  3.59s/it]\n"
     ]
    },
    {
     "name": "stdout",
     "output_type": "stream",
     "text": [
      "\n",
      "\n",
      "Processing twitter_cbow.model...\n"
     ]
    },
    {
     "name": "stderr",
     "output_type": "stream",
     "text": [
      "\tmasculine terms: 100%|██████████| 32/32 [02:32<00:00,  4.76s/it]\n",
      "\tfeminine terms: 100%|██████████| 32/32 [02:05<00:00,  3.91s/it]\n"
     ]
    },
    {
     "name": "stdout",
     "output_type": "stream",
     "text": [
      "\n",
      "\n",
      "Processing twitter_sg.model...\n"
     ]
    },
    {
     "name": "stderr",
     "output_type": "stream",
     "text": [
      "\tmasculine terms: 100%|██████████| 32/32 [02:36<00:00,  4.88s/it]\n",
      "\tfeminine terms: 100%|██████████| 32/32 [01:54<00:00,  3.57s/it]\n"
     ]
    },
    {
     "name": "stdout",
     "output_type": "stream",
     "text": [
      "\n",
      "\n",
      "Processing wikipedia_cbow.model...\n"
     ]
    },
    {
     "name": "stderr",
     "output_type": "stream",
     "text": [
      "\tmasculine terms: 100%|██████████| 32/32 [02:31<00:00,  4.73s/it]\n",
      "\tfeminine terms: 100%|██████████| 32/32 [01:36<00:00,  3.01s/it]\n"
     ]
    },
    {
     "name": "stdout",
     "output_type": "stream",
     "text": [
      "\n",
      "\n",
      "Processing wikipedia_sg.model...\n"
     ]
    },
    {
     "name": "stderr",
     "output_type": "stream",
     "text": [
      "\tmasculine terms: 100%|██████████| 32/32 [02:40<00:00,  5.01s/it]\n",
      "\tfeminine terms: 100%|██████████| 32/32 [02:00<00:00,  3.77s/it]"
     ]
    },
    {
     "name": "stdout",
     "output_type": "stream",
     "text": [
      "\n",
      "\n",
      "                  Model  Male_Pos  Male_Neg  Female_Pos  Female_Neg\n",
      "0     reddit_cbow.model  0.099056  0.095118    0.082766    0.090360\n",
      "1       reddit_sg.model  0.770178  0.757278    0.722455    0.711081\n",
      "2    twitter_cbow.model  0.037624  0.029863    0.027258    0.020980\n",
      "3      twitter_sg.model  0.233407  0.221800    0.219218    0.207518\n",
      "4  wikipedia_cbow.model  0.031755  0.048783    0.045039    0.064625\n"
     ]
    },
    {
     "name": "stderr",
     "output_type": "stream",
     "text": [
      "\n"
     ]
    }
   ],
   "source": [
    "import gensim\n",
    "import pandas as pd\n",
    "import os\n",
    "import re\n",
    "import numpy as np\n",
    "from tqdm import tqdm\n",
    "\n",
    "directory = os.getcwd()\n",
    "file_names = [file for file in os.listdir(directory) if file.endswith('.model')]\n",
    "\n",
    "use_similarities = True\n",
    "\n",
    "terms_df = pd.read_csv('gendered_terms.csv')\n",
    "\n",
    "vocab = np.loadtxt('model_vocab.txt', dtype=str).tolist()\n",
    "\n",
    "with open('negative-words.txt', 'r', encoding='ISO-8859-1') as file:\n",
    "    negative_words = [line.strip() for line in file]\n",
    "\n",
    "with open('positive-words.txt', 'r', encoding='ISO-8859-1') as file:\n",
    "    positive_words = [line.strip() for line in file]\n",
    "\n",
    "def preprocess_text(text):\n",
    "    return re.sub(r'[^\\w\\s]', '', str(text).lower())\n",
    "\n",
    "results = []\n",
    "\n",
    "for file_name in file_names:\n",
    "    model = gensim.models.Word2Vec.load(file_name)\n",
    "    print(f'Processing {file_name}...')\n",
    "    \n",
    "    male_pos = 0\n",
    "    male_neg = 0\n",
    "    male_count = 0\n",
    "    female_pos = 0\n",
    "    female_neg = 0\n",
    "    female_count = 0\n",
    "\n",
    "    for term in tqdm(terms_df['Masculine'], desc='\\tmasculine terms'):\n",
    "        term = preprocess_text(term)\n",
    "        if term not in vocab:\n",
    "            continue\n",
    "        male_count += 1\n",
    "        temp_neg = 0\n",
    "        neg_count = 0\n",
    "        temp_pos = 0\n",
    "        pos_count = 0\n",
    "        for word in negative_words:\n",
    "            if word not in vocab:\n",
    "                continue\n",
    "            neg_count += 1\n",
    "            temp_neg += model.wv.similarity(term, word) if use_similarities else np.linalg.norm(model.wv[term] - model.wv[word])\n",
    "        for word in positive_words:\n",
    "            if word not in vocab:\n",
    "                continue\n",
    "            pos_count += 1\n",
    "            temp_pos += model.wv.similarity(term, word) if use_similarities else np.linalg.norm(model.wv[term] - model.wv[word])\n",
    "        male_neg += temp_neg / neg_count\n",
    "        male_pos += temp_pos / pos_count\n",
    "\n",
    "    for term in tqdm(terms_df['Feminine'], desc='\\tfeminine terms'):\n",
    "        term = preprocess_text(term)\n",
    "        if term not in vocab:\n",
    "            continue\n",
    "        female_count += 1\n",
    "        temp_neg = 0\n",
    "        neg_count = 0\n",
    "        temp_pos = 0\n",
    "        pos_count = 0\n",
    "        for word in negative_words:\n",
    "            if word not in vocab:\n",
    "                continue\n",
    "            neg_count += 1\n",
    "            temp_neg += model.wv.similarity(term, word) if use_similarities else np.linalg.norm(model.wv[term] - model.wv[word])\n",
    "        for word in positive_words:\n",
    "            if word not in vocab:\n",
    "                continue\n",
    "            pos_count += 1\n",
    "            temp_pos += model.wv.similarity(term, word) if use_similarities else np.linalg.norm(model.wv[term] - model.wv[word])\n",
    "        female_neg += temp_neg / neg_count\n",
    "        female_pos += temp_pos / pos_count\n",
    "\n",
    "    row = {\n",
    "        'Model': file_name,\n",
    "        'Male_Pos': male_pos / male_count,\n",
    "        'Male_Neg': male_neg / male_count,\n",
    "        'Female_Pos': female_pos / female_count,\n",
    "        'Female_Neg': female_neg / female_count\n",
    "    }\n",
    "    results.append(row)\n",
    "\n",
    "    print('\\n')\n",
    "\n",
    "results_df = pd.DataFrame(results)\n",
    "print(results_df.head())\n",
    "results_df.to_csv('results.csv', index=False)\n"
   ]
  },
  {
   "cell_type": "code",
   "execution_count": 2,
   "metadata": {},
   "outputs": [],
   "source": [
    "with open('processed_results.txt', 'w') as f:\n",
    "    for r in results:\n",
    "        print(f'{r[\"Model\"]}:', file=f) \n",
    "        temp = r['Male_Neg'] / r['Male_Pos']\n",
    "        print(f'\\tMale neg/pos: {temp}', file=f)\n",
    "        temp = r['Female_Neg'] / r['Female_Pos']\n",
    "        print(f'\\tFemale neg/pos: {temp}', file=f)\n",
    "        temp = r['Male_Neg'] / r['Female_Neg']\n",
    "        print(f'\\tNeg male/female: {temp}', file=f)\n",
    "        temp = r['Male_Pos'] / r['Female_Pos']\n",
    "        print(f'\\tPos male/female: {temp}', file=f)"
   ]
  },
  {
   "cell_type": "code",
   "execution_count": 3,
   "metadata": {},
   "outputs": [
    {
     "name": "stdout",
     "output_type": "stream",
     "text": [
      "length of negative words: 4783\n",
      "length of positive words: 2006\n"
     ]
    }
   ],
   "source": [
    "with open('negative-words.txt', 'r', encoding='ISO-8859-1') as file:\n",
    "    negative_words = [line.strip() for line in file]\n",
    "\n",
    "with open('positive-words.txt', 'r', encoding='ISO-8859-1') as file:\n",
    "    positive_words = [line.strip() for line in file]\n",
    "\n",
    "print(f'length of negative words: {len(negative_words)}')\n",
    "print(f'length of positive words: {len(positive_words)}')"
   ]
  }
 ],
 "metadata": {
  "kernelspec": {
   "display_name": "base",
   "language": "python",
   "name": "python3"
  },
  "language_info": {
   "codemirror_mode": {
    "name": "ipython",
    "version": 3
   },
   "file_extension": ".py",
   "mimetype": "text/x-python",
   "name": "python",
   "nbconvert_exporter": "python",
   "pygments_lexer": "ipython3",
   "version": "3.11.5"
  }
 },
 "nbformat": 4,
 "nbformat_minor": 2
}
