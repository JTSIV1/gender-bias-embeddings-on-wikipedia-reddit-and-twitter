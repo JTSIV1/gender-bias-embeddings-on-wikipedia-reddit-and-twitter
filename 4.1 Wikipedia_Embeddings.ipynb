{
 "cells": [
  {
   "cell_type": "code",
   "execution_count": 2,
   "metadata": {},
   "outputs": [
    {
     "name": "stdout",
     "output_type": "stream",
     "text": [
      "Initializing model\n"
     ]
    },
    {
     "name": "stderr",
     "output_type": "stream",
     "text": [
      "100%|██████████| 28/28 [14:55:34<00:00, 1919.08s/it]   \n"
     ]
    }
   ],
   "source": [
    "from concurrent.futures import ThreadPoolExecutor\n",
    "import pandas as pd\n",
    "from gensim.models import Word2Vec\n",
    "import numpy as np\n",
    "from tqdm import tqdm\n",
    "import re\n",
    "\n",
    "def preprocess_text(text):\n",
    "    return re.sub(r'[^\\w\\s]', '', str(text).lower()).split()\n",
    "\n",
    "def train_model(chunk):\n",
    "    sentences = [preprocess_text(text) for text in chunk['text']]\n",
    "    model.train(sentences, total_examples=len(sentences), epochs=5)\n",
    "\n",
    "def process_chunk(i, df, chunk_size):\n",
    "    start_idx = i * chunk_size\n",
    "    end_idx = (i + 1) * chunk_size\n",
    "    chunk = df.iloc[start_idx:end_idx]\n",
    "    train_model(chunk)\n",
    "\n",
    "vocab = np.loadtxt('model_vocab.txt', dtype=str).tolist()\n",
    "\n",
    "docs = ['a', 'b', 'c', 'd', 'e', 'f', 'g', 'h', 'i', 'j', 'k', 'l', 'm', 'n', 'o', 'p', 'q', 'r', 's', 't', 'u', 'v', 'w', 'x', 'y', 'z', 'number', 'other']\n",
    "\n",
    "skip_gram = 1  # 0 for CBOW, 1 for skip-gram\n",
    "\n",
    "print('Initializing model')\n",
    "model = Word2Vec([vocab], vector_size=100, window=5, sg=skip_gram, epochs=1)\n",
    "\n",
    "chunk_size = 1000  # Adjust as needed\n",
    "\n",
    "for doc in tqdm(docs):\n",
    "    df = pd.read_parquet(f'Wikipedia Data/{doc}.parquet')\n",
    "    num_chunks = len(df) // chunk_size + 1\n",
    "    with ThreadPoolExecutor() as executor:\n",
    "        futures = [executor.submit(process_chunk, i, df, chunk_size) for i in range(num_chunks)]\n",
    "        for future in futures:\n",
    "            future.result()\n",
    "\n",
    "if skip_gram == 0:\n",
    "    model.save(\"wikipedia_cbow.model\")\n",
    "else:\n",
    "    model.save(\"wikipedia_sg.model\")\n",
    "\n"
   ]
  },
  {
   "cell_type": "code",
   "execution_count": 11,
   "metadata": {},
   "outputs": [
    {
     "name": "stdout",
     "output_type": "stream",
     "text": [
      "Similar words to 'poop':\n",
      "slop: 0.6632512807846069\n",
      "spanking: 0.6175498366355896\n",
      "bucket: 0.6167871952056885\n",
      "goddamn: 0.615112841129303\n",
      "giggling: 0.605552613735199\n",
      "barnyard: 0.6014346480369568\n",
      "fart: 0.5992071032524109\n",
      "momma: 0.5944929122924805\n",
      "cribs: 0.5913742184638977\n",
      "crock: 0.5903614163398743\n"
     ]
    }
   ],
   "source": [
    "# Test the trained model\n",
    "word = \"poop\"\n",
    "similar_words = model.wv.most_similar(word)\n",
    "\n",
    "print(f\"Similar words to '{word}':\")\n",
    "for similar_word, similarity in similar_words:\n",
    "    print(f\"{similar_word}: {similarity}\")"
   ]
  }
 ],
 "metadata": {
  "kernelspec": {
   "display_name": "base",
   "language": "python",
   "name": "python3"
  },
  "language_info": {
   "codemirror_mode": {
    "name": "ipython",
    "version": 3
   },
   "file_extension": ".py",
   "mimetype": "text/x-python",
   "name": "python",
   "nbconvert_exporter": "python",
   "pygments_lexer": "ipython3",
   "version": "3.11.5"
  }
 },
 "nbformat": 4,
 "nbformat_minor": 2
}
